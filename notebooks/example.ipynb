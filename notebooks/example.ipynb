{
 "cells": [
  {
   "cell_type": "code",
   "execution_count": 1,
   "id": "congressional-opinion",
   "metadata": {},
   "outputs": [],
   "source": [
    "from selenium import webdriver\n",
    "\n",
    "firefox_options = webdriver.ChromeOptions()\n",
    "\n",
    "# in windows localhost does not work, you need your ip\n",
    "driver = webdriver.Remote(\n",
    "    command_executor='http://192.168.0.106:4444/wd/hub',\n",
    "    options=firefox_options\n",
    ")\n",
    "driver.get(\"http://www.google.com\")\n",
    "driver.quit()"
   ]
  }
 ],
 "metadata": {
  "kernelspec": {
   "display_name": "Python 3",
   "language": "python",
   "name": "python3"
  },
  "language_info": {
   "codemirror_mode": {
    "name": "ipython",
    "version": 3
   },
   "file_extension": ".py",
   "mimetype": "text/x-python",
   "name": "python",
   "nbconvert_exporter": "python",
   "pygments_lexer": "ipython3",
   "version": "3.8.5"
  }
 },
 "nbformat": 4,
 "nbformat_minor": 5
}
